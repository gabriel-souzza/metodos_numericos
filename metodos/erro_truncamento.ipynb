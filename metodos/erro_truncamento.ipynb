{
 "cells": [
  {
   "cell_type": "code",
   "execution_count": null,
   "id": "7bc1fb46",
   "metadata": {},
   "outputs": [],
   "source": [
    "import math\n",
    "\n",
    "def seno_taylor(x, k_max):\n",
    "    seno = 0\n",
    "    for k in range(k_max):\n",
    "        termo = ((-1)**k * x**(2*k + 1)) / math.factorial(2*k + 1)\n",
    "        seno += termo\n",
    "    return seno\n",
    "\n",
    "x = math.pi / 4  # 45 graus\n",
    "for k in [1, 3, 5, 10]:\n",
    "    print(f\"k={k}, seno_taylor(x)={seno_taylor(x, k)}, erro={abs(math.sin(x) - seno_taylor(x, k))}\")"
   ]
  }
 ],
 "metadata": {
  "language_info": {
   "name": "python"
  }
 },
 "nbformat": 4,
 "nbformat_minor": 5
}
