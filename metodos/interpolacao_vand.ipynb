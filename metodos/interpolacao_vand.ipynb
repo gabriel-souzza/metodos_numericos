{
 "cells": [
  {
   "cell_type": "code",
   "execution_count": 7,
   "id": "47826bac",
   "metadata": {},
   "outputs": [
    {
     "name": "stdout",
     "output_type": "stream",
     "text": [
      "Coeficientes do polinômio: [1.0, 6.0, 0.0, -1.0]\n"
     ]
    }
   ],
   "source": [
    "def interpolacao_vandermonde(x, y):\n",
    "    n = len(x)\n",
    "    V = [[x[i]**j for j in range(n)] for i in range(n)]\n",
    "    for i in range(n):\n",
    "        for j in range(i+1, n):\n",
    "            fator = V[j][i] / V[i][i]\n",
    "            for k in range(n):\n",
    "                V[j][k] -= fator * V[i][k]\n",
    "            y[j] -= fator * y[i]\n",
    "    a = [0]*n\n",
    "    for i in reversed(range(n)):\n",
    "        a[i] = (y[i] - sum(V[i][j]*a[j] for j in range(i+1, n))) / V[i][i]\n",
    "    return a\n",
    "\n",
    "x = [0, 1, 2, 3]\n",
    "y = [1, 6, 5, -8]\n",
    "coef = interpolacao_vandermonde(x[:], y[:])\n",
    "print(\"Coeficientes do polinômio:\", coef)"
   ]
  }
 ],
 "metadata": {
  "kernelspec": {
   "display_name": ".venv",
   "language": "python",
   "name": "python3"
  },
  "language_info": {
   "codemirror_mode": {
    "name": "ipython",
    "version": 3
   },
   "file_extension": ".py",
   "mimetype": "text/x-python",
   "name": "python",
   "nbconvert_exporter": "python",
   "pygments_lexer": "ipython3",
   "version": "3.13.3"
  }
 },
 "nbformat": 4,
 "nbformat_minor": 5
}
