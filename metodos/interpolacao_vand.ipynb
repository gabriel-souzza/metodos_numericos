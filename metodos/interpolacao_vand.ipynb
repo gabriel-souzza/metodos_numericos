{
 "cells": [
  {
   "cell_type": "code",
   "execution_count": null,
   "id": "47826bac",
   "metadata": {},
   "outputs": [
    {
     "name": "stdout",
     "output_type": "stream",
     "text": [
      "Coeficientes do polinômio: [1.0, 6.0, 0.0, -1.0]\n"
     ]
    }
   ],
   "source": [
    "def interpolacao_vandermonde(x, y):\n",
    "    n = len(x)\n",
    "    V = [[x[i]**j for j in range(n)] for i in range(n)]\n",
    "    \n",
    "    for i in range(n):\n",
    "        for j in range(i+1, n):\n",
    "            fator = V[j][i] / V[i][i]\n",
    "            for k in range(i, n):\n",
    "                V[j][k] -= fator * V[i][k]\n",
    "            y[j] -= fator * y[i]\n",
    "    \n",
    "    a = [0] * n\n",
    "    for i in range(n-1, -1, -1):\n",
    "        soma = sum(V[i][j] * a[j] for j in range(i+1, n))\n",
    "        a[i] = (y[i] - soma) / V[i][i]\n",
    "    \n",
    "    return a\n",
    "\n",
    "x = [0, 1, 2, 3]\n",
    "y = [1, 6, 5, -8]\n",
    "coef = interpolacao_vandermonde(x[:], y[:])\n",
    "print(\"Coeficientes do polinômio:\", coef)\n"
   ]
  },
  {
   "cell_type": "code",
   "execution_count": null,
   "id": "8cd61567",
   "metadata": {},
   "outputs": [],
   "source": [
    "from numpy.polynomial.polynomial import Polynomial\n",
    "import numpy as np\n",
    "import matplotlib.pyplot as plt\n",
    "\n",
    "def interpolacao_vandermonde(x, y):\n",
    "    V = np.vander(x, increasing=True)\n",
    "    coef = np.linalg.solve(V, y)\n",
    "    return coef\n",
    "\n",
    "x_points = np.array([0, 1, 2, 3])\n",
    "y_points = np.array([1, 6, 5, -8])\n",
    "\n",
    "coef = interpolacao_vandermonde(x_points, y_points)\n",
    "p = Polynomial(coef)\n",
    "x_vals = np.linspace(min(x_points), max(x_points), 200)\n",
    "y_vals = p(x_vals)\n",
    "\n",
    "plt.plot(x_vals, y_vals, label='Interpolação')\n",
    "plt.scatter(x_points, y_points, color='red', label='Pontos')\n",
    "plt.title('Interpolação Polinomial (Vandermonde)')\n",
    "plt.xlabel('x')\n",
    "plt.ylabel('y')\n",
    "plt.legend()\n",
    "plt.grid()\n",
    "plt.show()\n"
   ]
  }
 ],
 "metadata": {
  "kernelspec": {
   "display_name": "Python 3",
   "language": "python",
   "name": "python3"
  },
  "language_info": {
   "codemirror_mode": {
    "name": "ipython",
    "version": 3
   },
   "file_extension": ".py",
   "mimetype": "text/x-python",
   "name": "python",
   "nbconvert_exporter": "python",
   "pygments_lexer": "ipython3",
   "version": "3.13.3"
  }
 },
 "nbformat": 4,
 "nbformat_minor": 5
}
