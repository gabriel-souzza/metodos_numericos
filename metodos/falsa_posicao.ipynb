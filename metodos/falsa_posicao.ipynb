{
 "cells": [
  {
   "cell_type": "code",
   "execution_count": null,
   "id": "c03196ea",
   "metadata": {},
   "outputs": [],
   "source": [
    "def falsa_posicao(f, a, b, tol=1e-6, max_iter=100):\n",
    "    if f(a) * f(b) >= 0:\n",
    "        raise ValueError(\"f(a) e f(b) devem ter sinais opostos\")\n",
    "\n",
    "    for _ in range(max_iter):\n",
    "        c = (a * f(b) - b * f(a)) / (f(b) - f(a))\n",
    "        if abs(f(c)) < tol:\n",
    "            return c\n",
    "        if f(a) * f(c) < 0:\n",
    "            b = c\n",
    "        else:\n",
    "            a = c\n",
    "    return c"
   ]
  }
 ],
 "metadata": {
  "language_info": {
   "name": "python"
  }
 },
 "nbformat": 4,
 "nbformat_minor": 5
}
