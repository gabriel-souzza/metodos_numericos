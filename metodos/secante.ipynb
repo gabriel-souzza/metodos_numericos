{
 "cells": [
  {
   "cell_type": "code",
   "execution_count": null,
   "id": "7acf7d02",
   "metadata": {},
   "outputs": [],
   "source": [
    "def secante(f, x0, x1, tol=1e-6, max_iter=100):\n",
    "    for _ in range(max_iter):\n",
    "        fx0, fx1 = f(x0), f(x1)\n",
    "        if fx1 - fx0 == 0:\n",
    "            break\n",
    "        x2 = x1 - fx1 * (x1 - x0) / (fx1 - fx0)\n",
    "        if abs(x2 - x1) < tol:\n",
    "            return x2\n",
    "        x0, x1 = x1, x2\n",
    "    return x1\n"
   ]
  },
  {
   "cell_type": "code",
   "execution_count": null,
   "id": "abef9c1f",
   "metadata": {},
   "outputs": [],
   "source": [
    "import matplotlib.pyplot as plt\n",
    "\n",
    "def secante_convergencia(f, x0, x1, tol=1e-6, max_iter=100):\n",
    "    pontos = [x0, x1]\n",
    "    for _ in range(max_iter):\n",
    "        if f(x1) == f(x0): break\n",
    "        x2 = x1 - f(x1)*(x1 - x0)/(f(x1) - f(x0))\n",
    "        pontos.append(x2)\n",
    "        if abs(x2 - x1) < tol:\n",
    "            break\n",
    "        x0, x1 = x1, x2\n",
    "    return pontos\n",
    "\n",
    "pontos = secante_convergencia(f, 0, 1)\n",
    "\n",
    "plt.plot(range(len(pontos)), pontos, marker='o', color='orange')\n",
    "plt.title('Convergência - Secante')\n",
    "plt.xlabel('Iteração')\n",
    "plt.ylabel('Aproximação da raiz')\n",
    "plt.grid()\n",
    "plt.show()\n"
   ]
  }
 ],
 "metadata": {
  "kernelspec": {
   "display_name": "Python 3",
   "language": "python",
   "name": "python3"
  },
  "language_info": {
   "name": "python",
   "version": "3.13.3"
  }
 },
 "nbformat": 4,
 "nbformat_minor": 5
}
