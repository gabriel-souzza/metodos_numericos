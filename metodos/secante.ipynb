{
 "cells": [
  {
   "cell_type": "code",
   "execution_count": null,
   "id": "7acf7d02",
   "metadata": {},
   "outputs": [],
   "source": [
    "def secante(f, x0, x1, tol=1e-6, max_iter=100):\n",
    "    for _ in range(max_iter):\n",
    "        fx0, fx1 = f(x0), f(x1)\n",
    "        if fx1 - fx0 == 0:\n",
    "            break\n",
    "        x2 = x1 - fx1 * (x1 - x0) / (fx1 - fx0)\n",
    "        if abs(x2 - x1) < tol:\n",
    "            return x2\n",
    "        x0, x1 = x1, x2\n",
    "    return x1\n"
   ]
  }
 ],
 "metadata": {
  "language_info": {
   "name": "python"
  }
 },
 "nbformat": 4,
 "nbformat_minor": 5
}
