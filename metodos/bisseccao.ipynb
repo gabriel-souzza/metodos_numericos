{
 "cells": [
  {
   "cell_type": "code",
   "execution_count": null,
   "id": "55566095",
   "metadata": {},
   "outputs": [],
   "source": [
    "def bisseccao(f, a, b, tol=1e-6, max_iter=100):\n",
    "    if f(a) * f(b) >= 0:\n",
    "        raise ValueError(\"f(a) e f(b) devem ter sinais opostos\")\n",
    "\n",
    "    for _ in range(max_iter):\n",
    "        c = (a + b) / 2\n",
    "        if abs(f(c)) < tol or abs(b - a) < tol:\n",
    "            return c\n",
    "        if f(a) * f(c) < 0:\n",
    "            b = c\n",
    "        else:\n",
    "            a = c\n",
    "    return (a + b) / 2"
   ]
  }
 ],
 "metadata": {
  "language_info": {
   "name": "python"
  }
 },
 "nbformat": 4,
 "nbformat_minor": 5
}
