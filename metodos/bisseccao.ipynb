{
 "cells": [
  {
   "cell_type": "code",
   "execution_count": null,
   "id": "55566095",
   "metadata": {},
   "outputs": [],
   "source": [
    "def bisseccao(f, a, b, tol=1e-6, max_iter=100):\n",
    "    if f(a) * f(b) >= 0:\n",
    "        raise ValueError(\"f(a) e f(b) devem ter sinais opostos\")\n",
    "\n",
    "    for _ in range(max_iter):\n",
    "        c = (a + b) / 2\n",
    "        if abs(f(c)) < tol or abs(b - a) < tol:\n",
    "            return c\n",
    "        if f(a) * f(c) < 0:\n",
    "            b = c\n",
    "        else:\n",
    "            a = c\n",
    "    return (a + b) / 2"
   ]
  },
  {
   "cell_type": "code",
   "execution_count": null,
   "id": "cbd91cac",
   "metadata": {},
   "outputs": [],
   "source": [
    "import math\n",
    "import matplotlib.pyplot as plt\n",
    "\n",
    "def bisseccao_convergencia(f, a, b, tol=1e-6, max_iter=100):\n",
    "    pontos = []\n",
    "    if f(a) * f(b) >= 0:\n",
    "        raise ValueError(\"f(a) e f(b) devem ter sinais opostos.\")\n",
    "    for _ in range(max_iter):\n",
    "        c = (a + b) / 2\n",
    "        pontos.append(c)\n",
    "        if abs(f(c)) < tol or abs(b - a) < tol:\n",
    "            break\n",
    "        if f(a) * f(c) < 0:\n",
    "            b = c\n",
    "        else:\n",
    "            a = c\n",
    "    return pontos\n",
    "\n",
    "f = lambda x: math.exp(-x) - x\n",
    "pontos = bisseccao_convergencia(f, 0, 1)\n",
    "\n",
    "plt.plot(range(len(pontos)), pontos, marker='o')\n",
    "plt.title('Convergência - Bissecção')\n",
    "plt.xlabel('Iteração')\n",
    "plt.ylabel('Aproximação da raiz')\n",
    "plt.grid()\n",
    "plt.show()\n"
   ]
  }
 ],
 "metadata": {
  "kernelspec": {
   "display_name": "Python 3",
   "language": "python",
   "name": "python3"
  },
  "language_info": {
   "name": "python",
   "version": "3.13.3"
  }
 },
 "nbformat": 4,
 "nbformat_minor": 5
}
