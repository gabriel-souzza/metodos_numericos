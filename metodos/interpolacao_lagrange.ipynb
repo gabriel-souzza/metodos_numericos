{
 "cells": [
  {
   "cell_type": "code",
   "execution_count": null,
   "id": "87314e68",
   "metadata": {},
   "outputs": [],
   "source": [
    "def lagrange_interpolador(x_vals, y_vals, x):\n",
    "    n = len(x_vals)\n",
    "    total = 0\n",
    "    for i in range(n):\n",
    "        xi, yi = x_vals[i], y_vals[i]\n",
    "        Li = 1\n",
    "        for j in range(n):\n",
    "            if i != j:\n",
    "                Li *= (x - x_vals[j]) / (xi - x_vals[j])\n",
    "        total += yi * Li\n",
    "    return total\n",
    "\n",
    "# Exemplo de uso\n",
    "x_pts = [0, 1, 2, 3]\n",
    "y_pts = [1, 6, 5, -8]\n",
    "\n",
    "# Avaliar o polinômio em x = 1.5\n",
    "x = 1.5\n",
    "y_interp = lagrange_interpolador(x_pts, y_pts, x)\n",
    "print(f\"P({x}) = {y_interp}\")\n"
   ]
  }
 ],
 "metadata": {
  "kernelspec": {
   "display_name": "Python 3",
   "language": "python",
   "name": "python3"
  },
  "language_info": {
   "name": "python",
   "version": "3.13.3"
  }
 },
 "nbformat": 4,
 "nbformat_minor": 5
}
