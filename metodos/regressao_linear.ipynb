{
 "cells": [
  {
   "cell_type": "code",
   "execution_count": null,
   "id": "733a4772",
   "metadata": {},
   "outputs": [],
   "source": [
    "def regressao_linear(x, y):\n",
    "    n = len(x)\n",
    "    sx = sum(x)\n",
    "    sy = sum(y)\n",
    "    sxy = sum(x[i]*y[i] for i in range(n))\n",
    "    sx2 = sum(xi**2 for xi in x)\n",
    "    b1 = (n * sxy - sx * sy) / (n * sx2 - sx**2)\n",
    "    b0 = (sy - b1 * sx) / n\n",
    "    return b0, b1\n",
    "\n",
    "x = [0.2, 2.7, 4.5, 5.9, 7.2]\n",
    "y = [1.5, 1.8, 3.1, 2.6, 3.6]\n",
    "b0, b1 = regressao_linear(x, y)\n",
    "print(f\"y = {b0:.4f} + {b1:.4f}x\")"
   ]
  },
  {
   "cell_type": "code",
   "execution_count": null,
   "id": "220f5e12",
   "metadata": {},
   "outputs": [],
   "source": [
    "import numpy as np\n",
    "import matplotlib.pyplot as plt\n",
    "\n",
    "def regressao_linear(x, y):\n",
    "    n = len(x)\n",
    "    A = np.vstack([np.ones(n), x]).T\n",
    "    b = np.array(y)\n",
    "    coef = np.linalg.lstsq(A, b, rcond=None)[0]\n",
    "    return coef\n",
    "\n",
    "x = np.array([4.2, 5.1, 6.0, 7.3, 8.1, 8.6, 9.2, 9.8])\n",
    "y = np.array([1.2, 1.3, 1.9, 2.1, 2.6, 3.0, 3.3, 3.4])\n",
    "\n",
    "b0, b1 = regressao_linear(x, y)\n",
    "reta = b0 + b1 * x\n",
    "\n",
    "plt.scatter(x, y, color='blue', label='Dados')\n",
    "plt.plot(x, reta, color='red', label='Ajuste linear')\n",
    "plt.title('Regressão Linear - Mínimos Quadrados')\n",
    "plt.xlabel('x')\n",
    "plt.ylabel('y')\n",
    "plt.legend()\n",
    "plt.grid()\n",
    "plt.show()\n"
   ]
  }
 ],
 "metadata": {
  "kernelspec": {
   "display_name": "Python 3",
   "language": "python",
   "name": "python3"
  },
  "language_info": {
   "name": "python",
   "version": "3.13.3"
  }
 },
 "nbformat": 4,
 "nbformat_minor": 5
}
