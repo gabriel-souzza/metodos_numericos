{
 "cells": [
  {
   "cell_type": "code",
   "execution_count": null,
   "id": "733a4772",
   "metadata": {},
   "outputs": [],
   "source": [
    "def regressao_linear(x, y):\n",
    "    n = len(x)\n",
    "    sx = sum(x)\n",
    "    sy = sum(y)\n",
    "    sxy = sum(x[i]*y[i] for i in range(n))\n",
    "    sx2 = sum(xi**2 for xi in x)\n",
    "    b1 = (n * sxy - sx * sy) / (n * sx2 - sx**2)\n",
    "    b0 = (sy - b1 * sx) / n\n",
    "    return b0, b1\n",
    "\n",
    "x = [0.2, 2.7, 4.5, 5.9, 7.2]\n",
    "y = [1.5, 1.8, 3.1, 2.6, 3.6]\n",
    "b0, b1 = regressao_linear(x, y)\n",
    "print(f\"y = {b0:.4f} + {b1:.4f}x\")"
   ]
  }
 ],
 "metadata": {
  "language_info": {
   "name": "python"
  }
 },
 "nbformat": 4,
 "nbformat_minor": 5
}
